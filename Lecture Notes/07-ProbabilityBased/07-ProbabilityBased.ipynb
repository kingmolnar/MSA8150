{
 "cells": [
  {
   "cell_type": "markdown",
   "metadata": {},
   "source": [
    "# Analyzing Messages from NextDoor.com\n",
    "\n"
   ]
  },
  {
   "cell_type": "markdown",
   "metadata": {},
   "source": [
    "First let's read in the messages..."
   ]
  },
  {
   "cell_type": "code",
   "execution_count": null,
   "metadata": {
    "collapsed": true
   },
   "outputs": [],
   "source": []
  },
  {
   "cell_type": "code",
   "execution_count": 5,
   "metadata": {
    "collapsed": false
   },
   "outputs": [
    {
     "data": {
      "text/plain": [
       "11125"
      ]
     },
     "execution_count": 5,
     "metadata": {},
     "output_type": "execute_result"
    }
   ],
   "source": [
    "import os, sys\n",
    "import re\n",
    "\n",
    "# Open a file\n",
    "path = \"./data/plainmessages\"\n",
    "\n",
    "len(dirs)"
   ]
  },
  {
   "cell_type": "code",
   "execution_count": 17,
   "metadata": {
    "collapsed": false
   },
   "outputs": [],
   "source": [
    "# this regular expression fill match with strings that have only digits followed by a dot and 'msg'\n",
    "only_msg = re.compile('(\\d+).msg')"
   ]
  },
  {
   "cell_type": "code",
   "execution_count": 82,
   "metadata": {
    "collapsed": false
   },
   "outputs": [],
   "source": [
    "## function to extract data from message file\n",
    "def parsemessage(filename):\n",
    "    ph0 = re.compile(\"^\\(Message\")\n",
    "    ph1 = re.compile(\"^([\\w\\-]+):\\s+(.*)\")\n",
    "    ph2 = re.compile(\"^\\s(.*)\")\n",
    "    ph3 = re.compile(\"^part\\s+(\\d+)\\s+text/plain\")\n",
    "    ##ph4 = re.compile(\"^(\\w+) (\\w+) from ([\\w\\s]+)said:\")\n",
    "    ph4 = re.compile(\"^(\\w+) (\\w+) from (.+)\")\n",
    "    ph5 = re.compile(\"^Shared to (\\d+) neighborhood\")\n",
    "    ##Shared to your neighborhood\n",
    "    ph5a = re.compile(\"^Shared to your neighborhood\")\n",
    "    ph6 = re.compile(\"^To view\")\n",
    "    \n",
    "    resdict = {}\n",
    "    content = \"\"\n",
    "    currentkey = \"\"\n",
    "    state = \"begin\"\n",
    "    blanklines = 0\n",
    "    error_message = \"\"\n",
    "    for line in open(filename):\n",
    "        \n",
    "        ##print(\"'%s' (%s)\" % (line.rstrip(), state))\n",
    "        res0 = ph0.match(line)\n",
    "        res1 = ph1.match(line)\n",
    "        res2 = ph2.match(line)\n",
    "        res3 = ph3.match(line)\n",
    "        res4 = ph4.match(line)\n",
    "        res5 = ph5.match(line)\n",
    "        res5a = ph5a.match(line)\n",
    "        res6 = ph6.match(line)\n",
    "        \n",
    "        if state == \"begin\":\n",
    "            if res0:\n",
    "                state = \"inheader\"\n",
    "                continue\n",
    "            else:\n",
    "                error_message = \"problems in state %s\" % state\n",
    "                state = \"error\"\n",
    "       \n",
    "        if state == \"inheader\":\n",
    "            if res1:\n",
    "                currentkey = res1.group(1)\n",
    "                resdict[currentkey] = res1.group(2)\n",
    "                continue\n",
    "            elif line[0]=='\\n':\n",
    "                continue\n",
    "            elif line[0]=='\\t':\n",
    "                resdict[currentkey] += line\n",
    "                continue\n",
    "            elif res3:\n",
    "                state = \"part\"\n",
    "                continue\n",
    "            else:\n",
    "                error_message = \"problems in state %s\" % state\n",
    "                state = \"error\"\n",
    "\n",
    "        elif state==\"part\":\n",
    "            if line[0]==\"\\n\":\n",
    "                continue\n",
    "            elif res4:\n",
    "                resdict[\"sender_firstname\"] = res4.group(1)\n",
    "                resdict[\"sender_lastname\"] = res4.group(2)\n",
    "                resdict[\"sender_neighborhood\"] = res4.group(3)\n",
    "                state = \"body\"\n",
    "                continue\n",
    "            else:\n",
    "                error_message = \"problems in state %s\" % state\n",
    "                state = \"error\"\n",
    "\n",
    "        elif state==\"body\":\n",
    "            if res5:\n",
    "                resdict[\"Num_neighborhoods\"] = res5.group(1)\n",
    "                state = \"last\"\n",
    "                continue\n",
    "            elif res5a:\n",
    "                resdict[\"Num_neighborhoods\"] = 1\n",
    "                state = \"last\"\n",
    "                continue\n",
    "            else:\n",
    "                if \"body\" in resdict.keys():\n",
    "                    resdict[\"body\"] += line\n",
    "                else:\n",
    "                    resdict[\"body\"] = line\n",
    "                continue\n",
    "        elif state==\"last\":\n",
    "            if res6:\n",
    "                state = \"done\"\n",
    "                continue\n",
    "            else:\n",
    "                if \"category\" in resdict.keys():\n",
    "                    resdict[\"category\"] += line.rstrip()\n",
    "                else:\n",
    "                    resdict[\"category\"] = line.rstrip()\n",
    "                continue\n",
    "        \n",
    "        elif state==\"done\":\n",
    "            break;\n",
    "            \n",
    "        else:\n",
    "            ##print(error_message)\n",
    "            return resdict\n",
    "                \n",
    "    return resdict"
   ]
  },
  {
   "cell_type": "code",
   "execution_count": null,
   "metadata": {
    "collapsed": true
   },
   "outputs": [],
   "source": []
  },
  {
   "cell_type": "code",
   "execution_count": null,
   "metadata": {
    "collapsed": true
   },
   "outputs": [],
   "source": []
  },
  {
   "cell_type": "code",
   "execution_count": null,
   "metadata": {
    "collapsed": true
   },
   "outputs": [],
   "source": []
  },
  {
   "cell_type": "code",
   "execution_count": 71,
   "metadata": {
    "collapsed": false
   },
   "outputs": [],
   "source": [
    "res = parsemessage(\"data/plainmessages/1000.msg\")"
   ]
  },
  {
   "cell_type": "code",
   "execution_count": null,
   "metadata": {
    "collapsed": true
   },
   "outputs": [],
   "source": []
  },
  {
   "cell_type": "code",
   "execution_count": null,
   "metadata": {
    "collapsed": true
   },
   "outputs": [],
   "source": []
  },
  {
   "cell_type": "code",
   "execution_count": null,
   "metadata": {
    "collapsed": true
   },
   "outputs": [],
   "source": []
  },
  {
   "cell_type": "code",
   "execution_count": 66,
   "metadata": {
    "collapsed": false
   },
   "outputs": [
    {
     "data": {
      "text/plain": [
       "dict_keys(['Subject', 'DKIM-Signature', 'Date', 'category', 'Reply-to', 'Authentication-Results', 'Received-SPF', 'Delivered-To', 'Num_neighborhoods', 'From', 'sender_lastname', 'sender_neighborhood', 'Status', 'X-SG-EID', 'To', 'body', 'X-Feedback-ID', 'X-Received', 'sender_firstname', 'X-SG-ID', 'MIME-Version', 'Return-Path'])"
      ]
     },
     "execution_count": 66,
     "metadata": {},
     "output_type": "execute_result"
    }
   ],
   "source": [
    "res.keys()"
   ]
  },
  {
   "cell_type": "code",
   "execution_count": null,
   "metadata": {
    "collapsed": true
   },
   "outputs": [],
   "source": []
  },
  {
   "cell_type": "code",
   "execution_count": null,
   "metadata": {
    "collapsed": true
   },
   "outputs": [],
   "source": []
  },
  {
   "cell_type": "code",
   "execution_count": 25,
   "metadata": {
    "collapsed": false
   },
   "outputs": [
    {
     "data": {
      "text/plain": [
       "'\\nAny interest in modern glass-top C&B desk?\\n\\nOriginal post by Susan Bird from Oakhurst (3 replies):\\n\\n> Looking for crate and barrel/ modern style\\n> Dining room table \\n> Also looking for bookcase dressers \\n> Rugs couches queen size mattress box spring\\n> Washer/dryer out door furniture\\n> Please just email pics...\\n\\n'"
      ]
     },
     "execution_count": 25,
     "metadata": {},
     "output_type": "execute_result"
    }
   ],
   "source": [
    "res['body']"
   ]
  },
  {
   "cell_type": "code",
   "execution_count": 53,
   "metadata": {
    "collapsed": false
   },
   "outputs": [],
   "source": [
    "%more data/plainmessages/1000.msg\n"
   ]
  },
  {
   "cell_type": "code",
   "execution_count": 2,
   "metadata": {
    "collapsed": false
   },
   "outputs": [
    {
     "data": {
      "text/plain": [
       "['.DS_Store',\n",
       " '.mh_sequences.msg',\n",
       " '1.msg',\n",
       " '10.msg',\n",
       " '100.msg',\n",
       " '1000.msg',\n",
       " '10000.msg',\n",
       " '10001.msg',\n",
       " '10002.msg',\n",
       " '10003.msg']"
      ]
     },
     "execution_count": 2,
     "metadata": {},
     "output_type": "execute_result"
    }
   ],
   "source": [
    "dirs[0:10]"
   ]
  },
  {
   "cell_type": "code",
   "execution_count": 90,
   "metadata": {
    "collapsed": false,
    "scrolled": false
   },
   "outputs": [
    {
     "name": "stdout",
     "output_type": "stream",
     "text": [
      "./data/plainmessages/10897.msg\tunknown\n",
      "./data/plainmessages/10898.msg\tunknown\n",
      "./data/plainmessages/10899.msg\tPlumber\n",
      "./data/plainmessages/109.msg\tunknown\n",
      "./data/plainmessages/1090.msg\tunknown\n",
      "./data/plainmessages/10900.msg\tunknown\n",
      "./data/plainmessages/10901.msg\tunknown\n",
      "./data/plainmessages/10902.msg\tunknown\n",
      "./data/plainmessages/10903.msg\tunknown\n",
      "./data/plainmessages/10904.msg\tunknown\n",
      "./data/plainmessages/10905.msg\tClassifieds\n",
      "./data/plainmessages/10906.msg\tunknown\n",
      "./data/plainmessages/10907.msg\tClassifieds\n",
      "./data/plainmessages/10908.msg\tRecommendations\n",
      "./data/plainmessages/10909.msg\tunknown\n",
      "./data/plainmessages/1091.msg\tunknown\n",
      "./data/plainmessages/10910.msg\tunknown\n",
      "./data/plainmessages/10911.msg\tunknown\n",
      "./data/plainmessages/10912.msg\tunknown\n",
      "./data/plainmessages/10913.msg\tunknown\n",
      "./data/plainmessages/10914.msg\tunknown\n",
      "./data/plainmessages/10915.msg\tunknown\n",
      "./data/plainmessages/10916.msg\tunknown\n",
      "./data/plainmessages/10917.msg\tunknown\n",
      "./data/plainmessages/10918.msg\tunknown\n",
      "./data/plainmessages/10919.msg\tunknown\n",
      "./data/plainmessages/1092.msg\tunknown\n",
      "./data/plainmessages/10920.msg\tunknown\n",
      "./data/plainmessages/10921.msg\tunknown\n",
      "./data/plainmessages/10922.msg\tunknown\n",
      "./data/plainmessages/10923.msg\tunknown\n",
      "./data/plainmessages/10924.msg\tGeneral\n",
      "./data/plainmessages/10925.msg\tunknown\n",
      "./data/plainmessages/10926.msg\tGeneral\n",
      "./data/plainmessages/10927.msg\tunknown\n",
      "./data/plainmessages/10928.msg\tunknown\n",
      "./data/plainmessages/10929.msg\tunknown\n",
      "./data/plainmessages/1093.msg\tunknown\n",
      "./data/plainmessages/10930.msg\tunknown\n",
      "./data/plainmessages/10931.msg\tunknown\n",
      "./data/plainmessages/10932.msg\tunknown\n",
      "./data/plainmessages/10933.msg\tunknown\n",
      "./data/plainmessages/10934.msg\tGeneral\n",
      "./data/plainmessages/10935.msg\tunknown\n",
      "./data/plainmessages/10936.msg\tunknown\n",
      "./data/plainmessages/10937.msg\tunknown\n",
      "./data/plainmessages/10938.msg\tunknown\n",
      "./data/plainmessages/10939.msg\tunknown\n",
      "./data/plainmessages/1094.msg\tunknown\n",
      "./data/plainmessages/10940.msg\tunknown\n",
      "./data/plainmessages/10941.msg\tunknown\n",
      "./data/plainmessages/10942.msg\tunknown\n",
      "./data/plainmessages/10943.msg\tunknown\n",
      "./data/plainmessages/10944.msg\tunknown\n",
      "./data/plainmessages/10945.msg\tunknown\n",
      "./data/plainmessages/10946.msg\tunknown\n",
      "./data/plainmessages/10947.msg\tClassifieds\n",
      "./data/plainmessages/10948.msg\tunknown\n",
      "./data/plainmessages/10949.msg\tunknown\n",
      "./data/plainmessages/1095.msg\tCrime & Safety\n",
      "./data/plainmessages/10950.msg\tCrime & Safety\n",
      "./data/plainmessages/10951.msg\tunknown\n",
      "./data/plainmessages/10952.msg\tunknown\n",
      "./data/plainmessages/10953.msg\tunknown\n",
      "./data/plainmessages/10954.msg\tunknown\n",
      "./data/plainmessages/10955.msg\tunknown\n",
      "./data/plainmessages/10956.msg\tunknown\n",
      "./data/plainmessages/10957.msg\tunknown\n",
      "./data/plainmessages/10958.msg\tunknown\n",
      "./data/plainmessages/10959.msg\tunknown\n",
      "./data/plainmessages/1096.msg\tunknown\n",
      "./data/plainmessages/10960.msg\tunknown\n",
      "./data/plainmessages/10961.msg\tunknown\n",
      "./data/plainmessages/10962.msg\tRecommendations\n",
      "./data/plainmessages/10963.msg\tunknown\n",
      "./data/plainmessages/10964.msg\tunknown\n",
      "./data/plainmessages/10965.msg\tunknown\n",
      "./data/plainmessages/10966.msg\tunknown\n",
      "./data/plainmessages/10967.msg\tunknown\n",
      "./data/plainmessages/10968.msg\tunknown\n",
      "./data/plainmessages/10969.msg\tunknown\n",
      "./data/plainmessages/1097.msg\tunknown\n",
      "./data/plainmessages/10970.msg\tunknown\n",
      "./data/plainmessages/10971.msg\tunknown\n",
      "./data/plainmessages/10972.msg\tunknown\n",
      "./data/plainmessages/10973.msg\tClassifieds\n",
      "./data/plainmessages/10974.msg\tunknown\n",
      "./data/plainmessages/10975.msg\tunknown\n",
      "./data/plainmessages/10976.msg\tunknown\n",
      "./data/plainmessages/10977.msg\tunknown\n",
      "./data/plainmessages/10978.msg\tunknown\n",
      "./data/plainmessages/10979.msg\tunknown\n",
      "./data/plainmessages/1098.msg\tGeneral\n",
      "./data/plainmessages/10980.msg\tunknown\n",
      "./data/plainmessages/10981.msg\tCrime & Safety\n",
      "./data/plainmessages/10982.msg\tunknown\n",
      "./data/plainmessages/10983.msg\tTree service\n",
      "./data/plainmessages/10984.msg\tunknown\n",
      "./data/plainmessages/10985.msg\tunknown\n",
      "./data/plainmessages/10986.msg\tunknown\n"
     ]
    }
   ],
   "source": [
    "# This would print all the files and directories\n",
    "dirs = os.listdir( path )\n",
    "for file in dirs[1000:1100]:\n",
    "    if only_msg.match(file):\n",
    "        filepath = \"%s/%s\" % (path, file)\n",
    "        print(filepath, end=\"\\t\")\n",
    "        res = parsemessage(filepath)\n",
    "        if ('category' in res.keys()) and (len(res['category']) > 0):\n",
    "            print(res['category'])\n",
    "        else:\n",
    "            print('unknown')\n",
    "        # print(\"%s -> %s\" % (file, res['category'])"
   ]
  },
  {
   "cell_type": "code",
   "execution_count": 88,
   "metadata": {
    "collapsed": false
   },
   "outputs": [
    {
     "data": {
      "text/plain": [
       "3"
      ]
     },
     "execution_count": 88,
     "metadata": {},
     "output_type": "execute_result"
    }
   ],
   "source": [
    "len(\"hal\")"
   ]
  }
 ],
 "metadata": {
  "kernelspec": {
   "display_name": "Python 3",
   "language": "python",
   "name": "python3"
  },
  "language_info": {
   "codemirror_mode": {
    "name": "ipython",
    "version": 3
   },
   "file_extension": ".py",
   "mimetype": "text/x-python",
   "name": "python",
   "nbconvert_exporter": "python",
   "pygments_lexer": "ipython3",
   "version": "3.4.3"
  }
 },
 "nbformat": 4,
 "nbformat_minor": 0
}
