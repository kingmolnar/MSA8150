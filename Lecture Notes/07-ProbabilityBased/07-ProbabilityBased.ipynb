{
 "cells": [
  {
   "cell_type": "markdown",
   "metadata": {},
   "source": [
    "# Analyzing Messages from NextDoor.com\n",
    "\n"
   ]
  },
  {
   "cell_type": "markdown",
   "metadata": {},
   "source": [
    "First let's read in the messages..."
   ]
  },
  {
   "cell_type": "code",
   "execution_count": null,
   "metadata": {
    "collapsed": true
   },
   "outputs": [],
   "source": []
  },
  {
   "cell_type": "code",
   "execution_count": 5,
   "metadata": {
    "collapsed": false
   },
   "outputs": [
    {
     "data": {
      "text/plain": [
       "11125"
      ]
     },
     "execution_count": 5,
     "metadata": {},
     "output_type": "execute_result"
    }
   ],
   "source": [
    "import os, sys\n",
    "import re\n",
    "\n",
    "# Open a file\n",
    "path = \"./data/plainmessages\"\n",
    "\n",
    "len(dirs)"
   ]
  },
  {
   "cell_type": "code",
   "execution_count": 91,
   "metadata": {
    "collapsed": false
   },
   "outputs": [],
   "source": [
    "# this regular expression fill match with strings that have only digits followed by a dot and 'msg'\n",
    "only_msg = re.compile('(\\d+)\\.msg')"
   ]
  },
  {
   "cell_type": "code",
   "execution_count": 82,
   "metadata": {
    "collapsed": false
   },
   "outputs": [],
   "source": [
    "## function to extract data from message file\n",
    "def parsemessage(filename):\n",
    "    ph0 = re.compile(\"^\\(Message\")\n",
    "    ph1 = re.compile(\"^([\\w\\-]+):\\s+(.*)\")\n",
    "    ph2 = re.compile(\"^\\s(.*)\")\n",
    "    ph3 = re.compile(\"^part\\s+(\\d+)\\s+text/plain\")\n",
    "    ##ph4 = re.compile(\"^(\\w+) (\\w+) from ([\\w\\s]+)said:\")\n",
    "    ph4 = re.compile(\"^(\\w+) (\\w+) from (.+)\")\n",
    "    ph5 = re.compile(\"^Shared to (\\d+) neighborhood\")\n",
    "    ##Shared to your neighborhood\n",
    "    ph5a = re.compile(\"^Shared to your neighborhood\")\n",
    "    ph6 = re.compile(\"^To view\")\n",
    "    \n",
    "    resdict = {}\n",
    "    content = \"\"\n",
    "    currentkey = \"\"\n",
    "    state = \"begin\"\n",
    "    blanklines = 0\n",
    "    error_message = \"\"\n",
    "    for line in open(filename):\n",
    "        \n",
    "        ##print(\"'%s' (%s)\" % (line.rstrip(), state))\n",
    "        res0 = ph0.match(line)\n",
    "        res1 = ph1.match(line)\n",
    "        res2 = ph2.match(line)\n",
    "        res3 = ph3.match(line)\n",
    "        res4 = ph4.match(line)\n",
    "        res5 = ph5.match(line)\n",
    "        res5a = ph5a.match(line)\n",
    "        res6 = ph6.match(line)\n",
    "        \n",
    "        if state == \"begin\":\n",
    "            if res0:\n",
    "                state = \"inheader\"\n",
    "                continue\n",
    "            else:\n",
    "                error_message = \"problems in state %s\" % state\n",
    "                state = \"error\"\n",
    "       \n",
    "        if state == \"inheader\":\n",
    "            if res1:\n",
    "                currentkey = res1.group(1)\n",
    "                resdict[currentkey] = res1.group(2)\n",
    "                continue\n",
    "            elif line[0]=='\\n':\n",
    "                continue\n",
    "            elif line[0]=='\\t':\n",
    "                resdict[currentkey] += line\n",
    "                continue\n",
    "            elif res3:\n",
    "                state = \"part\"\n",
    "                continue\n",
    "            else:\n",
    "                error_message = \"problems in state %s\" % state\n",
    "                state = \"error\"\n",
    "\n",
    "        elif state==\"part\":\n",
    "            if line[0]==\"\\n\":\n",
    "                continue\n",
    "            elif res4:\n",
    "                resdict[\"sender_firstname\"] = res4.group(1)\n",
    "                resdict[\"sender_lastname\"] = res4.group(2)\n",
    "                resdict[\"sender_neighborhood\"] = res4.group(3)\n",
    "                state = \"body\"\n",
    "                continue\n",
    "            else:\n",
    "                error_message = \"problems in state %s\" % state\n",
    "                state = \"error\"\n",
    "\n",
    "        elif state==\"body\":\n",
    "            if res5:\n",
    "                resdict[\"Num_neighborhoods\"] = res5.group(1)\n",
    "                state = \"last\"\n",
    "                continue\n",
    "            elif res5a:\n",
    "                resdict[\"Num_neighborhoods\"] = 1\n",
    "                state = \"last\"\n",
    "                continue\n",
    "            else:\n",
    "                if \"body\" in resdict.keys():\n",
    "                    resdict[\"body\"] += line\n",
    "                else:\n",
    "                    resdict[\"body\"] = line\n",
    "                continue\n",
    "        elif state==\"last\":\n",
    "            if res6:\n",
    "                state = \"done\"\n",
    "                continue\n",
    "            else:\n",
    "                if \"category\" in resdict.keys():\n",
    "                    resdict[\"category\"] += line.rstrip()\n",
    "                else:\n",
    "                    resdict[\"category\"] = line.rstrip()\n",
    "                continue\n",
    "        \n",
    "        elif state==\"done\":\n",
    "            break;\n",
    "            \n",
    "        else:\n",
    "            ##print(error_message)\n",
    "            return resdict\n",
    "                \n",
    "    return resdict"
   ]
  },
  {
   "cell_type": "code",
   "execution_count": null,
   "metadata": {
    "collapsed": true
   },
   "outputs": [],
   "source": []
  },
  {
   "cell_type": "code",
   "execution_count": null,
   "metadata": {
    "collapsed": true
   },
   "outputs": [],
   "source": []
  },
  {
   "cell_type": "code",
   "execution_count": null,
   "metadata": {
    "collapsed": true
   },
   "outputs": [],
   "source": []
  },
  {
   "cell_type": "code",
   "execution_count": 71,
   "metadata": {
    "collapsed": false
   },
   "outputs": [],
   "source": [
    "res = parsemessage(\"data/plainmessages/1000.msg\")"
   ]
  },
  {
   "cell_type": "code",
   "execution_count": null,
   "metadata": {
    "collapsed": true
   },
   "outputs": [],
   "source": []
  },
  {
   "cell_type": "code",
   "execution_count": null,
   "metadata": {
    "collapsed": true
   },
   "outputs": [],
   "source": []
  },
  {
   "cell_type": "code",
   "execution_count": null,
   "metadata": {
    "collapsed": true
   },
   "outputs": [],
   "source": []
  },
  {
   "cell_type": "code",
   "execution_count": 66,
   "metadata": {
    "collapsed": false
   },
   "outputs": [
    {
     "data": {
      "text/plain": [
       "dict_keys(['Subject', 'DKIM-Signature', 'Date', 'category', 'Reply-to', 'Authentication-Results', 'Received-SPF', 'Delivered-To', 'Num_neighborhoods', 'From', 'sender_lastname', 'sender_neighborhood', 'Status', 'X-SG-EID', 'To', 'body', 'X-Feedback-ID', 'X-Received', 'sender_firstname', 'X-SG-ID', 'MIME-Version', 'Return-Path'])"
      ]
     },
     "execution_count": 66,
     "metadata": {},
     "output_type": "execute_result"
    }
   ],
   "source": [
    "res.keys()"
   ]
  },
  {
   "cell_type": "code",
   "execution_count": null,
   "metadata": {
    "collapsed": true
   },
   "outputs": [],
   "source": []
  },
  {
   "cell_type": "code",
   "execution_count": null,
   "metadata": {
    "collapsed": true
   },
   "outputs": [],
   "source": []
  },
  {
   "cell_type": "code",
   "execution_count": 25,
   "metadata": {
    "collapsed": false
   },
   "outputs": [
    {
     "data": {
      "text/plain": [
       "'\\nAny interest in modern glass-top C&B desk?\\n\\nOriginal post by Susan Bird from Oakhurst (3 replies):\\n\\n> Looking for crate and barrel/ modern style\\n> Dining room table \\n> Also looking for bookcase dressers \\n> Rugs couches queen size mattress box spring\\n> Washer/dryer out door furniture\\n> Please just email pics...\\n\\n'"
      ]
     },
     "execution_count": 25,
     "metadata": {},
     "output_type": "execute_result"
    }
   ],
   "source": [
    "res['body']"
   ]
  },
  {
   "cell_type": "code",
   "execution_count": 53,
   "metadata": {
    "collapsed": false
   },
   "outputs": [],
   "source": [
    "%more data/plainmessages/1000.msg\n"
   ]
  },
  {
   "cell_type": "code",
   "execution_count": 2,
   "metadata": {
    "collapsed": false
   },
   "outputs": [
    {
     "data": {
      "text/plain": [
       "['.DS_Store',\n",
       " '.mh_sequences.msg',\n",
       " '1.msg',\n",
       " '10.msg',\n",
       " '100.msg',\n",
       " '1000.msg',\n",
       " '10000.msg',\n",
       " '10001.msg',\n",
       " '10002.msg',\n",
       " '10003.msg']"
      ]
     },
     "execution_count": 2,
     "metadata": {},
     "output_type": "execute_result"
    }
   ],
   "source": [
    "dirs[0:10]"
   ]
  },
  {
   "cell_type": "code",
   "execution_count": 99,
   "metadata": {
    "collapsed": false,
    "scrolled": false
   },
   "outputs": [],
   "source": [
    "# This would print all the files and directories\n",
    "dirs = os.listdir( path )\n",
    "\n",
    "msg_data = []\n",
    "msg_target = []\n",
    "\n",
    "for file in dirs:\n",
    "    if only_msg.match(file):\n",
    "        filepath = \"%s/%s\" % (path, file)\n",
    "        ##print(filepath, end=\"\\t\")\n",
    "        res = parsemessage(filepath)\n",
    "        if 'body' in res.keys():\n",
    "            msg_data.append(res['body'])\n",
    "            if ('category' in res.keys()) and (len(res['category']) > 0):\n",
    "                msg_target.append(res['category'])\n",
    "            else:\n",
    "                msg_target.append('unknown')\n",
    "        # print(\"%s -> %s\" % (file, res['category'])"
   ]
  },
  {
   "cell_type": "code",
   "execution_count": 100,
   "metadata": {
    "collapsed": false
   },
   "outputs": [
    {
     "data": {
      "text/plain": [
       "(9677, 9677)"
      ]
     },
     "execution_count": 100,
     "metadata": {},
     "output_type": "execute_result"
    }
   ],
   "source": [
    "len(msg_data), len(msg_target)"
   ]
  },
  {
   "cell_type": "code",
   "execution_count": 103,
   "metadata": {
    "collapsed": false
   },
   "outputs": [
    {
     "data": {
      "text/plain": [
       "69"
      ]
     },
     "execution_count": 103,
     "metadata": {},
     "output_type": "execute_result"
    }
   ],
   "source": [
    "len(set(msg_target))"
   ]
  },
  {
   "cell_type": "code",
   "execution_count": 105,
   "metadata": {
    "collapsed": false
   },
   "outputs": [
    {
     "name": "stdout",
     "output_type": "stream",
     "text": [
      "Fence builder Youth programs Salon and spa Handyman Plumber Other services and businesses Gym Fitness facility Body shop Seamstress Handyman Masonry Carpenter Handyman Church Recommendations Family and parenting Carpet cleaner Documents Massage therapist Carpenter Deck renovation Lost & Found Medical and dental Lawn service Small engine repair Eldercare Senior services Restaurant General contractor Handyman Personal care Appliance repair Professional services Garbage collection Bicycle shop Air conditioning service Home and garden Local service recommendations Tree service Mover Computer repair Computer Electrician House cleaning service General contractor Plumber Lawn service Pest control service Heating and cooling Classifieds Summer/winter break camp Community Supported Agriculture Home builder Dog walker Glass repair Auto mechanic General Pressure washing Primary care physician Family and parenting Crime & Safety Chiropractor School Computer services Computer repair Computer Free items Dry cleaner Other home and garden service Pet sitter General contractor Carpenter Landscape contractor Dog grooming Recommendations Pest control Classes and lessons Appliance repair service unknown House painter "
     ]
    }
   ],
   "source": [
    "for t in set(msg_target):\n",
    "    print(t, end=\" \")\n",
    "    count = 0"
   ]
  },
  {
   "cell_type": "code",
   "execution_count": null,
   "metadata": {
    "collapsed": true
   },
   "outputs": [],
   "source": []
  },
  {
   "cell_type": "code",
   "execution_count": 107,
   "metadata": {
    "collapsed": false
   },
   "outputs": [],
   "source": []
  },
  {
   "cell_type": "code",
   "execution_count": null,
   "metadata": {
    "collapsed": true
   },
   "outputs": [],
   "source": []
  },
  {
   "cell_type": "code",
   "execution_count": null,
   "metadata": {
    "collapsed": true
   },
   "outputs": [],
   "source": []
  },
  {
   "cell_type": "code",
   "execution_count": null,
   "metadata": {
    "collapsed": true
   },
   "outputs": [],
   "source": []
  },
  {
   "cell_type": "code",
   "execution_count": null,
   "metadata": {
    "collapsed": true
   },
   "outputs": [],
   "source": []
  },
  {
   "cell_type": "code",
   "execution_count": null,
   "metadata": {
    "collapsed": true
   },
   "outputs": [],
   "source": []
  },
  {
   "cell_type": "code",
   "execution_count": null,
   "metadata": {
    "collapsed": true
   },
   "outputs": [],
   "source": []
  }
 ],
 "metadata": {
  "kernelspec": {
   "display_name": "Python 3",
   "language": "python",
   "name": "python3"
  },
  "language_info": {
   "codemirror_mode": {
    "name": "ipython",
    "version": 3
   },
   "file_extension": ".py",
   "mimetype": "text/x-python",
   "name": "python",
   "nbconvert_exporter": "python",
   "pygments_lexer": "ipython3",
   "version": "3.4.3"
  }
 },
 "nbformat": 4,
 "nbformat_minor": 0
}
