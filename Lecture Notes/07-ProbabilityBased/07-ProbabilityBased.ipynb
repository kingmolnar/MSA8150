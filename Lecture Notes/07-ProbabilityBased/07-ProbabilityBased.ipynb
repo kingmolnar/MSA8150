{
 "cells": [
  {
   "cell_type": "markdown",
   "metadata": {},
   "source": [
    "# Analyzing Messages from NextDoor.com\n",
    "\n"
   ]
  },
  {
   "cell_type": "markdown",
   "metadata": {},
   "source": [
    "First let's read in the messages..."
   ]
  },
  {
   "cell_type": "code",
   "execution_count": null,
   "metadata": {
    "collapsed": true
   },
   "outputs": [],
   "source": []
  },
  {
   "cell_type": "code",
   "execution_count": 5,
   "metadata": {
    "collapsed": false
   },
   "outputs": [
    {
     "data": {
      "text/plain": [
       "11125"
      ]
     },
     "execution_count": 5,
     "metadata": {},
     "output_type": "execute_result"
    }
   ],
   "source": [
    "import os, sys\n",
    "import re\n",
    "\n",
    "# Open a file\n",
    "path = \"./data/plainmessages\"\n",
    "dirs = os.listdir( path )\n",
    "len(dirs)"
   ]
  },
  {
   "cell_type": "code",
   "execution_count": 17,
   "metadata": {
    "collapsed": false
   },
   "outputs": [],
   "source": [
    "# this regular expression fill match with strings that have only digits followed by a dot and 'msg'\n",
    "only_msg = re.compile('(\\d+).msg')"
   ]
  },
  {
   "cell_type": "code",
   "execution_count": 20,
   "metadata": {
    "collapsed": true
   },
   "outputs": [],
   "source": [
    "## function to extract data from message file\n",
    "def parsemessage(filename):\n",
    "    ph0 = re.compile(\"^\\(Message\")\n",
    "    ph1 = re.compile(\"^([\\w\\-]+):\\s+(.*)\")\n",
    "    ph2 = re.compile(\"^\\s(.*)\")\n",
    "    ph3 = re.compile(\"^part\\s+(\\d+)\\s+text/plain\")\n",
    "    ##ph4 = re.compile(\"^(\\w+) (\\w+) from ([\\w\\s]+)said:\")\n",
    "    ph4 = re.compile(\"^(\\w+) (\\w+) from (.+)\")\n",
    "    ph5 = re.compile(\"^Shared to (\\d+) neighborhood\")\n",
    "    \n",
    "    resdict = {}\n",
    "    content = \"\"\n",
    "    currentkey = \"\"\n",
    "    state = \"begin\"\n",
    "    blanklines = 0\n",
    "    error_message = \"\"\n",
    "    for line in open(filename):\n",
    "        \n",
    "        ##print(\"'%s' (%s)\" % (line.rstrip(), state))\n",
    "        res0 = ph0.match(line)\n",
    "        res1 = ph1.match(line)\n",
    "        res2 = ph2.match(line)\n",
    "        res3 = ph3.match(line)\n",
    "        res4 = ph4.match(line)\n",
    "        res5 = ph5.match(line)\n",
    "        \n",
    "        if state == \"begin\":\n",
    "            if res0:\n",
    "                state = \"inheader\"\n",
    "                continue\n",
    "            else:\n",
    "                error_message = \"problems in state %s\" % state\n",
    "                state = \"error\"\n",
    "       \n",
    "        if state == \"inheader\":\n",
    "            if res1:\n",
    "                currentkey = res1.group(1)\n",
    "                resdict[currentkey] = res1.group(2)\n",
    "                continue\n",
    "            elif line[0]=='\\n':\n",
    "                continue\n",
    "            elif line[0]=='\\t':\n",
    "                resdict[currentkey] += line\n",
    "                continue\n",
    "            elif res3:\n",
    "                state = \"part\"\n",
    "                continue\n",
    "            else:\n",
    "                error_message = \"problems in state %s\" % state\n",
    "                state = \"error\"\n",
    "\n",
    "        elif state==\"part\":\n",
    "            if line[0]==\"\\n\":\n",
    "                continue\n",
    "            elif res4:\n",
    "                resdict[\"sender_firstname\"] = res4.group(1)\n",
    "                resdict[\"sender_lastname\"] = res4.group(2)\n",
    "                resdict[\"sender_neighborhood\"] = res4.group(3)\n",
    "                state = \"body\"\n",
    "                continue\n",
    "            else:\n",
    "                error_message = \"problems in state %s\" % state\n",
    "                state = \"error\"\n",
    "\n",
    "        elif state==\"body\":\n",
    "            if res5:\n",
    "                resdict[\"Num_neighborhoods\"] = res5.group(1)\n",
    "                state = \"last\"\n",
    "                continue\n",
    "            else:\n",
    "                if \"body\" in resdict.keys():\n",
    "                    resdict[\"body\"] += line\n",
    "                else:\n",
    "                    resdict[\"body\"] = line\n",
    "                continue\n",
    "        elif state==\"last\":\n",
    "            resdict[\"category\"] = line.rstrip()\n",
    "            state = \"done\"\n",
    "            continue\n",
    "        \n",
    "        elif state==\"done\":\n",
    "            break;\n",
    "            \n",
    "        else:\n",
    "            print(error_message)\n",
    "            return resdict\n",
    "                \n",
    "    return resdict"
   ]
  },
  {
   "cell_type": "code",
   "execution_count": 34,
   "metadata": {
    "collapsed": false
   },
   "outputs": [],
   "source": [
    "res = parsemessage(\"data/plainmessages/1000.msg\")"
   ]
  },
  {
   "cell_type": "code",
   "execution_count": 35,
   "metadata": {
    "collapsed": false
   },
   "outputs": [
    {
     "data": {
      "text/plain": [
       "dict_keys(['Subject', 'To', 'DKIM-Signature', 'Date', 'body', 'Reply-to', 'Authentication-Results', 'Received-SPF', 'Status', 'Delivered-To', 'From', 'sender_firstname', 'X-Received', 'X-SG-ID', 'MIME-Version', 'sender_neighborhood', 'X-Feedback-ID', 'X-SG-EID', 'Return-Path', 'sender_lastname'])"
      ]
     },
     "execution_count": 35,
     "metadata": {},
     "output_type": "execute_result"
    }
   ],
   "source": [
    "res.keys()"
   ]
  },
  {
   "cell_type": "code",
   "execution_count": 25,
   "metadata": {
    "collapsed": false
   },
   "outputs": [
    {
     "data": {
      "text/plain": [
       "'\\nAny interest in modern glass-top C&B desk?\\n\\nOriginal post by Susan Bird from Oakhurst (3 replies):\\n\\n> Looking for crate and barrel/ modern style\\n> Dining room table \\n> Also looking for bookcase dressers \\n> Rugs couches queen size mattress box spring\\n> Washer/dryer out door furniture\\n> Please just email pics...\\n\\n'"
      ]
     },
     "execution_count": 25,
     "metadata": {},
     "output_type": "execute_result"
    }
   ],
   "source": [
    "res['body']"
   ]
  },
  {
   "cell_type": "code",
   "execution_count": 33,
   "metadata": {
    "collapsed": false
   },
   "outputs": [
    {
     "ename": "KeyError",
     "evalue": "'category'",
     "output_type": "error",
     "traceback": [
      "\u001b[0;31m---------------------------------------------------------------------------\u001b[0m",
      "\u001b[0;31mKeyError\u001b[0m                                  Traceback (most recent call last)",
      "\u001b[0;32m<ipython-input-33-8de4e3b6fce9>\u001b[0m in \u001b[0;36m<module>\u001b[0;34m()\u001b[0m\n\u001b[0;32m----> 1\u001b[0;31m \u001b[0mres\u001b[0m\u001b[0;34m[\u001b[0m\u001b[0;34m'category'\u001b[0m\u001b[0;34m]\u001b[0m\u001b[0;34m\u001b[0m\u001b[0m\n\u001b[0m",
      "\u001b[0;31mKeyError\u001b[0m: 'category'"
     ]
    }
   ],
   "source": [
    "res['category']"
   ]
  },
  {
   "cell_type": "code",
   "execution_count": 2,
   "metadata": {
    "collapsed": false
   },
   "outputs": [
    {
     "data": {
      "text/plain": [
       "['.DS_Store',\n",
       " '.mh_sequences.msg',\n",
       " '1.msg',\n",
       " '10.msg',\n",
       " '100.msg',\n",
       " '1000.msg',\n",
       " '10000.msg',\n",
       " '10001.msg',\n",
       " '10002.msg',\n",
       " '10003.msg']"
      ]
     },
     "execution_count": 2,
     "metadata": {},
     "output_type": "execute_result"
    }
   ],
   "source": [
    "dirs[0:10]"
   ]
  },
  {
   "cell_type": "code",
   "execution_count": 18,
   "metadata": {
    "collapsed": false
   },
   "outputs": [
    {
     "name": "stdout",
     "output_type": "stream",
     "text": [
      "1.msg\n",
      "10.msg\n",
      "100.msg\n",
      "1000.msg\n",
      "10000.msg\n",
      "10001.msg\n",
      "10002.msg\n",
      "10003.msg\n",
      "10004.msg\n",
      "10005.msg\n",
      "10006.msg\n",
      "10007.msg\n",
      "10008.msg\n",
      "10009.msg\n",
      "1001.msg\n",
      "10010.msg\n",
      "10011.msg\n",
      "10012.msg\n",
      "10013.msg\n",
      "10014.msg\n",
      "10015.msg\n",
      "10016.msg\n",
      "10017.msg\n",
      "10018.msg\n",
      "10019.msg\n",
      "1002.msg\n",
      "10020.msg\n",
      "10021.msg\n",
      "10022.msg\n",
      "10023.msg\n",
      "10024.msg\n",
      "10025.msg\n",
      "10026.msg\n",
      "10027.msg\n",
      "10028.msg\n",
      "10029.msg\n",
      "1003.msg\n",
      "10030.msg\n",
      "10031.msg\n",
      "10032.msg\n",
      "10033.msg\n",
      "10034.msg\n",
      "10035.msg\n",
      "10036.msg\n",
      "10037.msg\n",
      "10038.msg\n",
      "10039.msg\n",
      "1004.msg\n",
      "10040.msg\n",
      "10041.msg\n",
      "10042.msg\n",
      "10043.msg\n",
      "10044.msg\n",
      "10045.msg\n",
      "10046.msg\n",
      "10047.msg\n",
      "10048.msg\n",
      "10049.msg\n",
      "1005.msg\n",
      "10050.msg\n",
      "10051.msg\n",
      "10052.msg\n",
      "10053.msg\n",
      "10054.msg\n",
      "10055.msg\n",
      "10056.msg\n",
      "10057.msg\n",
      "10058.msg\n",
      "10059.msg\n",
      "1006.msg\n",
      "10060.msg\n",
      "10061.msg\n",
      "10062.msg\n",
      "10063.msg\n",
      "10064.msg\n",
      "10065.msg\n",
      "10066.msg\n",
      "10067.msg\n",
      "10068.msg\n",
      "10069.msg\n",
      "1007.msg\n",
      "10070.msg\n",
      "10071.msg\n",
      "10072.msg\n",
      "10073.msg\n",
      "10074.msg\n",
      "10075.msg\n",
      "10076.msg\n",
      "10077.msg\n",
      "10078.msg\n",
      "10079.msg\n",
      "1008.msg\n",
      "10080.msg\n",
      "10081.msg\n",
      "10082.msg\n",
      "10083.msg\n",
      "10084.msg\n",
      "10085.msg\n"
     ]
    }
   ],
   "source": [
    "# This would print all the files and directories\n",
    "\n",
    "for file in dirs[0:100]:\n",
    "    if only_msg.match(file):\n",
    "        print(file)"
   ]
  },
  {
   "cell_type": "code",
   "execution_count": null,
   "metadata": {
    "collapsed": true
   },
   "outputs": [],
   "source": []
  }
 ],
 "metadata": {
  "kernelspec": {
   "display_name": "Python 3",
   "language": "python",
   "name": "python3"
  },
  "language_info": {
   "codemirror_mode": {
    "name": "ipython",
    "version": 3
   },
   "file_extension": ".py",
   "mimetype": "text/x-python",
   "name": "python",
   "nbconvert_exporter": "python",
   "pygments_lexer": "ipython3",
   "version": "3.4.3"
  }
 },
 "nbformat": 4,
 "nbformat_minor": 0
}
